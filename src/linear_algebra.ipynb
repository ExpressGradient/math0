{
 "cells": [
  {
   "cell_type": "code",
   "execution_count": 2,
   "id": "32e6308b",
   "metadata": {},
   "outputs": [],
   "source": [
    "import torch"
   ]
  },
  {
   "cell_type": "code",
   "execution_count": 3,
   "id": "079ea5e7",
   "metadata": {},
   "outputs": [
    {
     "data": {
      "text/plain": [
       "True"
      ]
     },
     "execution_count": 3,
     "metadata": {},
     "output_type": "execute_result"
    }
   ],
   "source": [
    "torch.cuda.is_available()"
   ]
  },
  {
   "cell_type": "code",
   "execution_count": 4,
   "id": "04a38404",
   "metadata": {},
   "outputs": [],
   "source": [
    "A = torch.tensor([\n",
    "    [2, 1, 5],\n",
    "    [1, 2, 1],\n",
    "    [2, 1, 3]\n",
    "], dtype=torch.float)"
   ]
  },
  {
   "cell_type": "code",
   "execution_count": 5,
   "id": "a0051d7a",
   "metadata": {},
   "outputs": [
    {
     "data": {
      "text/plain": [
       "torch.Size([3, 3])"
      ]
     },
     "execution_count": 5,
     "metadata": {},
     "output_type": "execute_result"
    }
   ],
   "source": [
    "A.shape"
   ]
  },
  {
   "cell_type": "markdown",
   "id": "11570da0",
   "metadata": {},
   "source": [
    "### Determinant"
   ]
  },
  {
   "cell_type": "code",
   "execution_count": 6,
   "id": "2b82e1ca",
   "metadata": {},
   "outputs": [],
   "source": [
    "det = torch.linalg.det(A)"
   ]
  },
  {
   "cell_type": "code",
   "execution_count": 7,
   "id": "a7df595f",
   "metadata": {},
   "outputs": [
    {
     "data": {
      "text/plain": [
       "tensor(-6.0000)"
      ]
     },
     "execution_count": 7,
     "metadata": {},
     "output_type": "execute_result"
    }
   ],
   "source": [
    "det"
   ]
  },
  {
   "cell_type": "markdown",
   "id": "a93fc9eb",
   "metadata": {},
   "source": [
    "### Solver"
   ]
  },
  {
   "cell_type": "code",
   "execution_count": 8,
   "id": "93ba3d4c",
   "metadata": {},
   "outputs": [],
   "source": [
    "b = torch.tensor([20, 10, 15], dtype=torch.float)"
   ]
  },
  {
   "cell_type": "code",
   "execution_count": 9,
   "id": "8aefed04",
   "metadata": {},
   "outputs": [
    {
     "data": {
      "text/plain": [
       "torch.Size([3])"
      ]
     },
     "execution_count": 9,
     "metadata": {},
     "output_type": "execute_result"
    }
   ],
   "source": [
    "b.shape"
   ]
  },
  {
   "cell_type": "code",
   "execution_count": 10,
   "id": "77991c5d",
   "metadata": {},
   "outputs": [],
   "source": [
    "x = torch.linalg.solve(A, b)"
   ]
  },
  {
   "cell_type": "code",
   "execution_count": 11,
   "id": "689b6b55",
   "metadata": {},
   "outputs": [
    {
     "data": {
      "text/plain": [
       "tensor([2.5000, 2.5000, 2.5000])"
      ]
     },
     "execution_count": 11,
     "metadata": {},
     "output_type": "execute_result"
    }
   ],
   "source": [
    "x"
   ]
  },
  {
   "cell_type": "markdown",
   "id": "f93e9005",
   "metadata": {},
   "source": [
    "### Rank"
   ]
  },
  {
   "cell_type": "code",
   "execution_count": 12,
   "id": "61758ec5",
   "metadata": {},
   "outputs": [],
   "source": [
    "rank = torch.linalg.matrix_rank(A)"
   ]
  },
  {
   "cell_type": "code",
   "execution_count": 13,
   "id": "b96bd2e7",
   "metadata": {},
   "outputs": [
    {
     "data": {
      "text/plain": [
       "tensor(3)"
      ]
     },
     "execution_count": 13,
     "metadata": {},
     "output_type": "execute_result"
    }
   ],
   "source": [
    "rank"
   ]
  },
  {
   "cell_type": "markdown",
   "id": "e753b3f9",
   "metadata": {},
   "source": [
    "### Vector Operations"
   ]
  },
  {
   "cell_type": "code",
   "execution_count": 14,
   "id": "1ed01766",
   "metadata": {},
   "outputs": [],
   "source": [
    "u = torch.tensor([1, 3])"
   ]
  },
  {
   "cell_type": "code",
   "execution_count": 15,
   "id": "fa9eec7b",
   "metadata": {},
   "outputs": [],
   "source": [
    "v = torch.tensor([6, 2])"
   ]
  },
  {
   "cell_type": "code",
   "execution_count": 18,
   "id": "0f14bcf0",
   "metadata": {},
   "outputs": [],
   "source": [
    "vec_sum = u + v"
   ]
  },
  {
   "cell_type": "code",
   "execution_count": 19,
   "id": "b7bcde17",
   "metadata": {},
   "outputs": [
    {
     "data": {
      "text/plain": [
       "tensor([7, 5])"
      ]
     },
     "execution_count": 19,
     "metadata": {},
     "output_type": "execute_result"
    }
   ],
   "source": [
    "vec_sum"
   ]
  },
  {
   "cell_type": "code",
   "execution_count": 20,
   "id": "d2bae998",
   "metadata": {},
   "outputs": [],
   "source": [
    "vec_diff = u - v"
   ]
  },
  {
   "cell_type": "code",
   "execution_count": 21,
   "id": "8168fa8c",
   "metadata": {},
   "outputs": [
    {
     "data": {
      "text/plain": [
       "tensor([-5,  1])"
      ]
     },
     "execution_count": 21,
     "metadata": {},
     "output_type": "execute_result"
    }
   ],
   "source": [
    "vec_diff"
   ]
  },
  {
   "cell_type": "code",
   "execution_count": 22,
   "id": "f20bd902",
   "metadata": {},
   "outputs": [],
   "source": [
    "a = torch.tensor([-1, 5, 2])"
   ]
  },
  {
   "cell_type": "code",
   "execution_count": 23,
   "id": "47a5b604",
   "metadata": {},
   "outputs": [],
   "source": [
    "b = torch.tensor([-3, 6, -4])"
   ]
  },
  {
   "cell_type": "code",
   "execution_count": 24,
   "id": "5f15c72b",
   "metadata": {},
   "outputs": [],
   "source": [
    "dot_product = torch.dot(a, b)"
   ]
  },
  {
   "cell_type": "code",
   "execution_count": 25,
   "id": "53789f87",
   "metadata": {},
   "outputs": [
    {
     "data": {
      "text/plain": [
       "tensor(25)"
      ]
     },
     "execution_count": 25,
     "metadata": {},
     "output_type": "execute_result"
    }
   ],
   "source": [
    "dot_product"
   ]
  },
  {
   "cell_type": "code",
   "execution_count": 28,
   "id": "6fee4c5c",
   "metadata": {},
   "outputs": [],
   "source": [
    "vec_norm = torch.linalg.vector_norm(a.float())"
   ]
  },
  {
   "cell_type": "code",
   "execution_count": 30,
   "id": "f1a13a04",
   "metadata": {},
   "outputs": [
    {
     "data": {
      "text/plain": [
       "tensor(5.4772)"
      ]
     },
     "execution_count": 30,
     "metadata": {},
     "output_type": "execute_result"
    }
   ],
   "source": [
    "vec_norm"
   ]
  },
  {
   "cell_type": "markdown",
   "id": "a6e36f26",
   "metadata": {},
   "source": [
    "### Matrix Inverse"
   ]
  },
  {
   "cell_type": "code",
   "execution_count": 43,
   "id": "ae1cbe4b",
   "metadata": {},
   "outputs": [],
   "source": [
    "A = torch.tensor([\n",
    "    [5, 2],\n",
    "    [1, 2]\n",
    "], dtype=torch.float)"
   ]
  },
  {
   "cell_type": "code",
   "execution_count": 44,
   "id": "927f912d",
   "metadata": {},
   "outputs": [],
   "source": [
    "A_inv = torch.linalg.inv(A)"
   ]
  },
  {
   "cell_type": "code",
   "execution_count": 45,
   "id": "3c8fef3c",
   "metadata": {},
   "outputs": [
    {
     "data": {
      "text/plain": [
       "tensor([[ 0.2500, -0.2500],\n",
       "        [-0.1250,  0.6250]])"
      ]
     },
     "execution_count": 45,
     "metadata": {},
     "output_type": "execute_result"
    }
   ],
   "source": [
    "A_inv"
   ]
  },
  {
   "cell_type": "code",
   "execution_count": 46,
   "id": "e0701fa8",
   "metadata": {},
   "outputs": [
    {
     "data": {
      "text/plain": [
       "tensor([[1., 0.],\n",
       "        [0., 1.]])"
      ]
     },
     "execution_count": 46,
     "metadata": {},
     "output_type": "execute_result"
    }
   ],
   "source": [
    "A @ A_inv"
   ]
  },
  {
   "cell_type": "markdown",
   "id": "dbc2b474",
   "metadata": {},
   "source": [
    "### Distance"
   ]
  },
  {
   "cell_type": "code",
   "execution_count": 47,
   "id": "464dd75c",
   "metadata": {},
   "outputs": [],
   "source": [
    "v = torch.tensor([1, 0, 7])"
   ]
  },
  {
   "cell_type": "code",
   "execution_count": 48,
   "id": "bf60a503",
   "metadata": {},
   "outputs": [],
   "source": [
    "w = torch.tensor([0, -1, 2])"
   ]
  },
  {
   "cell_type": "code",
   "execution_count": 49,
   "id": "3e4ab83b",
   "metadata": {},
   "outputs": [],
   "source": [
    "pairwise_distance = torch.nn.PairwiseDistance(p=2)"
   ]
  },
  {
   "cell_type": "code",
   "execution_count": 50,
   "id": "2a3ad12b",
   "metadata": {},
   "outputs": [],
   "source": [
    "distance = pairwise_distance(v, w)"
   ]
  },
  {
   "cell_type": "code",
   "execution_count": 51,
   "id": "4a48aaa7",
   "metadata": {},
   "outputs": [
    {
     "data": {
      "text/plain": [
       "tensor(5.1962)"
      ]
     },
     "execution_count": 51,
     "metadata": {},
     "output_type": "execute_result"
    }
   ],
   "source": [
    "distance"
   ]
  },
  {
   "cell_type": "markdown",
   "id": "367a60d9",
   "metadata": {},
   "source": [
    "### L2 Norm or Magnitude"
   ]
  },
  {
   "cell_type": "code",
   "execution_count": 53,
   "id": "d409b730",
   "metadata": {},
   "outputs": [],
   "source": [
    "p = torch.tensor([1, 0, -3])"
   ]
  },
  {
   "cell_type": "code",
   "execution_count": 54,
   "id": "d56c82d8",
   "metadata": {},
   "outputs": [],
   "source": [
    "q = torch.tensor([-1, 0, -3])"
   ]
  },
  {
   "cell_type": "code",
   "execution_count": 56,
   "id": "9ef714c0",
   "metadata": {},
   "outputs": [
    {
     "data": {
      "text/plain": [
       "tensor(2.)"
      ]
     },
     "execution_count": 56,
     "metadata": {},
     "output_type": "execute_result"
    }
   ],
   "source": [
    "torch.linalg.vector_norm(p.float() - q.float())"
   ]
  },
  {
   "cell_type": "code",
   "execution_count": null,
   "id": "2b80750a",
   "metadata": {},
   "outputs": [],
   "source": []
  }
 ],
 "metadata": {
  "kernelspec": {
   "display_name": "Python 3 (ipykernel)",
   "language": "python",
   "name": "python3"
  },
  "language_info": {
   "codemirror_mode": {
    "name": "ipython",
    "version": 3
   },
   "file_extension": ".py",
   "mimetype": "text/x-python",
   "name": "python",
   "nbconvert_exporter": "python",
   "pygments_lexer": "ipython3",
   "version": "3.11.1"
  }
 },
 "nbformat": 4,
 "nbformat_minor": 5
}
